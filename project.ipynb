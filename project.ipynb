{
 "cells": [
  {
   "cell_type": "code",
   "execution_count": 162,
   "id": "cdcec7ae-bc41-439d-bcf1-a14271da6f45",
   "metadata": {},
   "outputs": [],
   "source": [
    "import numpy as np\n",
    "import pandas as pd\n",
    "import matplotlib.pyplot as plt  # visualization\n",
    "%matplotlib inline\n",
    "from sklearn.model_selection import train_test_split\n",
    "from sklearn.neighbors import KNeighborsClassifier\n",
    "from sklearn.metrics import accuracy_score, confusion_matrix\n",
    "import seaborn as sns\n",
    "from sklearn import svm\n"
   ]
  },
  {
   "cell_type": "code",
   "execution_count": 164,
   "id": "b425202c-7839-4e7e-96e1-5e9e200c355d",
   "metadata": {},
   "outputs": [
    {
     "data": {
      "text/html": [
       "<div>\n",
       "<style scoped>\n",
       "    .dataframe tbody tr th:only-of-type {\n",
       "        vertical-align: middle;\n",
       "    }\n",
       "\n",
       "    .dataframe tbody tr th {\n",
       "        vertical-align: top;\n",
       "    }\n",
       "\n",
       "    .dataframe thead th {\n",
       "        text-align: right;\n",
       "    }\n",
       "</style>\n",
       "<table border=\"1\" class=\"dataframe\">\n",
       "  <thead>\n",
       "    <tr style=\"text-align: right;\">\n",
       "      <th></th>\n",
       "      <th>total_bill</th>\n",
       "      <th>tip</th>\n",
       "      <th>sex</th>\n",
       "      <th>smoker</th>\n",
       "      <th>day</th>\n",
       "      <th>time</th>\n",
       "      <th>size</th>\n",
       "    </tr>\n",
       "  </thead>\n",
       "  <tbody>\n",
       "    <tr>\n",
       "      <th>0</th>\n",
       "      <td>16.99</td>\n",
       "      <td>1.01</td>\n",
       "      <td>Female</td>\n",
       "      <td>No</td>\n",
       "      <td>Sun</td>\n",
       "      <td>Dinner</td>\n",
       "      <td>2</td>\n",
       "    </tr>\n",
       "    <tr>\n",
       "      <th>1</th>\n",
       "      <td>10.34</td>\n",
       "      <td>1.66</td>\n",
       "      <td>Male</td>\n",
       "      <td>No</td>\n",
       "      <td>Sun</td>\n",
       "      <td>Dinner</td>\n",
       "      <td>3</td>\n",
       "    </tr>\n",
       "    <tr>\n",
       "      <th>2</th>\n",
       "      <td>21.01</td>\n",
       "      <td>3.50</td>\n",
       "      <td>Male</td>\n",
       "      <td>No</td>\n",
       "      <td>Sun</td>\n",
       "      <td>Dinner</td>\n",
       "      <td>3</td>\n",
       "    </tr>\n",
       "    <tr>\n",
       "      <th>3</th>\n",
       "      <td>23.68</td>\n",
       "      <td>3.31</td>\n",
       "      <td>Male</td>\n",
       "      <td>No</td>\n",
       "      <td>Sun</td>\n",
       "      <td>Dinner</td>\n",
       "      <td>2</td>\n",
       "    </tr>\n",
       "    <tr>\n",
       "      <th>4</th>\n",
       "      <td>24.59</td>\n",
       "      <td>3.61</td>\n",
       "      <td>Female</td>\n",
       "      <td>No</td>\n",
       "      <td>Sun</td>\n",
       "      <td>Dinner</td>\n",
       "      <td>4</td>\n",
       "    </tr>\n",
       "  </tbody>\n",
       "</table>\n",
       "</div>"
      ],
      "text/plain": [
       "   total_bill   tip     sex smoker  day    time  size\n",
       "0       16.99  1.01  Female     No  Sun  Dinner     2\n",
       "1       10.34  1.66    Male     No  Sun  Dinner     3\n",
       "2       21.01  3.50    Male     No  Sun  Dinner     3\n",
       "3       23.68  3.31    Male     No  Sun  Dinner     2\n",
       "4       24.59  3.61  Female     No  Sun  Dinner     4"
      ]
     },
     "execution_count": 164,
     "metadata": {},
     "output_type": "execute_result"
    }
   ],
   "source": [
    "# loading the tips dataset to a pandas DataFrame\n",
    "tips_dataset = pd.read_csv('tips.csv') \n",
    "# printing the first 5 rows of the dataset\n",
    "tips_dataset.head()"
   ]
  },
  {
   "cell_type": "code",
   "execution_count": 166,
   "id": "b85adee8-a3b3-498e-9d12-52c413f2adab",
   "metadata": {},
   "outputs": [
    {
     "data": {
      "text/plain": [
       "(244, 7)"
      ]
     },
     "execution_count": 166,
     "metadata": {},
     "output_type": "execute_result"
    }
   ],
   "source": [
    "# number of rows and Columns in this dataset\n",
    "tips_dataset.shape"
   ]
  },
  {
   "cell_type": "code",
   "execution_count": 168,
   "id": "b208d8ef-d176-42e4-bded-12cd1f11bc16",
   "metadata": {},
   "outputs": [
    {
     "data": {
      "text/html": [
       "<div>\n",
       "<style scoped>\n",
       "    .dataframe tbody tr th:only-of-type {\n",
       "        vertical-align: middle;\n",
       "    }\n",
       "\n",
       "    .dataframe tbody tr th {\n",
       "        vertical-align: top;\n",
       "    }\n",
       "\n",
       "    .dataframe thead th {\n",
       "        text-align: right;\n",
       "    }\n",
       "</style>\n",
       "<table border=\"1\" class=\"dataframe\">\n",
       "  <thead>\n",
       "    <tr style=\"text-align: right;\">\n",
       "      <th></th>\n",
       "      <th>total_bill</th>\n",
       "      <th>tip</th>\n",
       "      <th>size</th>\n",
       "    </tr>\n",
       "  </thead>\n",
       "  <tbody>\n",
       "    <tr>\n",
       "      <th>count</th>\n",
       "      <td>244.000000</td>\n",
       "      <td>244.000000</td>\n",
       "      <td>244.000000</td>\n",
       "    </tr>\n",
       "    <tr>\n",
       "      <th>mean</th>\n",
       "      <td>19.785943</td>\n",
       "      <td>2.998279</td>\n",
       "      <td>2.569672</td>\n",
       "    </tr>\n",
       "    <tr>\n",
       "      <th>std</th>\n",
       "      <td>8.902412</td>\n",
       "      <td>1.383638</td>\n",
       "      <td>0.951100</td>\n",
       "    </tr>\n",
       "    <tr>\n",
       "      <th>min</th>\n",
       "      <td>3.070000</td>\n",
       "      <td>1.000000</td>\n",
       "      <td>1.000000</td>\n",
       "    </tr>\n",
       "    <tr>\n",
       "      <th>25%</th>\n",
       "      <td>13.347500</td>\n",
       "      <td>2.000000</td>\n",
       "      <td>2.000000</td>\n",
       "    </tr>\n",
       "    <tr>\n",
       "      <th>50%</th>\n",
       "      <td>17.795000</td>\n",
       "      <td>2.900000</td>\n",
       "      <td>2.000000</td>\n",
       "    </tr>\n",
       "    <tr>\n",
       "      <th>75%</th>\n",
       "      <td>24.127500</td>\n",
       "      <td>3.562500</td>\n",
       "      <td>3.000000</td>\n",
       "    </tr>\n",
       "    <tr>\n",
       "      <th>max</th>\n",
       "      <td>50.810000</td>\n",
       "      <td>10.000000</td>\n",
       "      <td>6.000000</td>\n",
       "    </tr>\n",
       "  </tbody>\n",
       "</table>\n",
       "</div>"
      ],
      "text/plain": [
       "       total_bill         tip        size\n",
       "count  244.000000  244.000000  244.000000\n",
       "mean    19.785943    2.998279    2.569672\n",
       "std      8.902412    1.383638    0.951100\n",
       "min      3.070000    1.000000    1.000000\n",
       "25%     13.347500    2.000000    2.000000\n",
       "50%     17.795000    2.900000    2.000000\n",
       "75%     24.127500    3.562500    3.000000\n",
       "max     50.810000   10.000000    6.000000"
      ]
     },
     "execution_count": 168,
     "metadata": {},
     "output_type": "execute_result"
    }
   ],
   "source": [
    "# getting the statistical measures of the data\n",
    "tips_dataset.describe()"
   ]
  },
  {
   "cell_type": "code",
   "execution_count": 170,
   "id": "80956066-f015-4bd4-b192-d7013f3d4f0d",
   "metadata": {},
   "outputs": [
    {
     "name": "stdout",
     "output_type": "stream",
     "text": [
      "     total_bill   tip     sex smoker   day    time\n",
      "0         16.99  1.01  Female     No   Sun  Dinner\n",
      "1         10.34  1.66    Male     No   Sun  Dinner\n",
      "2         21.01  3.50    Male     No   Sun  Dinner\n",
      "3         23.68  3.31    Male     No   Sun  Dinner\n",
      "4         24.59  3.61  Female     No   Sun  Dinner\n",
      "..          ...   ...     ...    ...   ...     ...\n",
      "239       29.03  5.92    Male     No   Sat  Dinner\n",
      "240       27.18  2.00  Female    Yes   Sat  Dinner\n",
      "241       22.67  2.00    Male    Yes   Sat  Dinner\n",
      "242       17.82  1.75    Male     No   Sat  Dinner\n",
      "243       18.78  3.00  Female     No  Thur  Dinner\n",
      "\n",
      "[244 rows x 6 columns]\n",
      "0      2\n",
      "1      3\n",
      "2      3\n",
      "3      2\n",
      "4      4\n",
      "      ..\n",
      "239    3\n",
      "240    2\n",
      "241    2\n",
      "242    2\n",
      "243    2\n",
      "Name: size, Length: 244, dtype: int64\n"
     ]
    }
   ],
   "source": [
    "# separating the data and labels\n",
    "X = tips_dataset.drop(columns = 'size', axis=1)\n",
    "Y = tips_dataset['size']\n",
    "print(X)\n",
    "print(Y)"
   ]
  },
  {
   "cell_type": "code",
   "execution_count": 172,
   "id": "14361148-91fb-4917-a203-df75da6af5ed",
   "metadata": {},
   "outputs": [
    {
     "name": "stdout",
     "output_type": "stream",
     "text": [
      "\n",
      "Handling missing values in specific columns:\n",
      "Number of missing values in 'total_bill' before handling: 0\n",
      "Number of missing values in 'total_bill' after handling: 0\n",
      "Number of missing values in 'tip' before handling: 0\n",
      "Number of missing values in 'tip' after handling: 0\n"
     ]
    }
   ],
   "source": [
    "# *** Handling Missing Values ***\n",
    "columns_with_missing_values = ['total_bill', 'tip']  # Replace with your actual columns\n",
    "print(\"\\nHandling missing values in specific columns:\")\n",
    "for column in columns_with_missing_values:\n",
    "    print(f\"Number of missing values in '{column}' before handling: {X[column].isnull().sum()}\")\n",
    "    X.dropna(subset=[column], inplace=True)  # Remove rows with missing values in the specified column\n",
    "    print(f\"Number of missing values in '{column}' after handling: {X[column].isnull().sum()}\")"
   ]
  },
  {
   "cell_type": "code",
   "execution_count": 174,
   "id": "0144622e-987e-482c-819e-f34b9093d39c",
   "metadata": {},
   "outputs": [],
   "source": [
    "# Define mappings for categorical features\n",
    "sex_mapping = {'Female': 0, 'Male': 1}\n",
    "smoker_mapping = {'No': 0, 'Yes': 1}\n",
    "day_mapping = {'Thur': 0, 'Fri': 1, 'Sat': 2, 'Sun': 3}\n",
    "time_mapping = {'Lunch': 0, 'Dinner': 1}\n",
    "\n",
    "# Apply mappings to the DataFrame\n",
    "X['sex'] = X['sex'].map(sex_mapping)\n",
    "X['smoker'] = X['smoker'].map(smoker_mapping)\n",
    "X['day'] = X['day'].map(day_mapping)\n",
    "X['time'] = X['time'].map(time_mapping)"
   ]
  },
  {
   "cell_type": "code",
   "execution_count": 176,
   "id": "17f5612d-bb25-414d-ba78-315406ce9dc4",
   "metadata": {},
   "outputs": [
    {
     "name": "stdout",
     "output_type": "stream",
     "text": [
      "(244, 6) (195, 6) (49, 6)\n"
     ]
    }
   ],
   "source": [
    "X_train, X_test, Y_train, Y_test = train_test_split(X,Y, test_size = 0.2,  random_state=42)\n",
    "print(X.shape, X_train.shape, X_test.shape)\n"
   ]
  },
  {
   "cell_type": "code",
   "execution_count": 178,
   "id": "d7607c22-75dd-49c1-afb8-76c61a6ebeda",
   "metadata": {},
   "outputs": [
    {
     "name": "stdout",
     "output_type": "stream",
     "text": [
      "Test data accuracy for n_neighbors=1: 0.5306122448979592\n"
     ]
    }
   ],
   "source": [
    "# Initialize KNN classifier\n",
    "classifier = KNeighborsClassifier(n_neighbors=1)  # Fewer neighbors usually give better results\n",
    "classifier.fit(X_train, Y_train)  # Train the model\n",
    "\n",
    "# Test on test data and calculate accuracy\n",
    "y_prediction = classifier.predict(X_test)  # Predict test data\n",
    "accuracy_test_data = accuracy_score(Y_test, y_prediction)  # Accuracy for test data\n",
    "print(\"Test data accuracy for n_neighbors=1:\", accuracy_test_data)"
   ]
  },
  {
   "cell_type": "code",
   "execution_count": 182,
   "id": "bebd3770-6c21-4a60-b641-065c1ec9360e",
   "metadata": {},
   "outputs": [
    {
     "name": "stdout",
     "output_type": "stream",
     "text": [
      "Epoch 0, Loss: 1.7847\n",
      "Epoch 100, Loss: 1.2741\n",
      "Epoch 200, Loss: 1.1480\n",
      "Epoch 300, Loss: 1.1043\n",
      "Epoch 400, Loss: 1.0800\n",
      "Epoch 500, Loss: 1.0632\n",
      "Epoch 600, Loss: 1.0504\n",
      "Epoch 700, Loss: 1.0401\n",
      "Epoch 800, Loss: 1.0314\n",
      "Epoch 900, Loss: 1.0238\n",
      "Test Accuracy: 61.22%\n"
     ]
    }
   ],
   "source": [
    "\n",
    "# Standardize the data\n",
    "scaler = StandardScaler()\n",
    "X_train = scaler.fit_transform(X_train)\n",
    "X_test = scaler.transform(X_test)\n",
    "\n",
    "# Convert Y to one-hot encoding for multi-class classification\n",
    "Y_train_one_hot = np.eye(len(np.unique(Y)))[Y_train - 1]  # Adjust indexing\n",
    "Y_test_one_hot = np.eye(len(np.unique(Y)))[Y_test - 1]\n",
    "\n",
    "# Define the neural network class (same as your previous code, ensure init is corrected to __init__)\n",
    "class NeuralNetwork:\n",
    "    def __init__(self, input_size, hidden_size, output_size):\n",
    "        self.weights_input_hidden = np.random.randn(input_size, hidden_size) * 0.01\n",
    "        self.bias_hidden = np.zeros((1, hidden_size))\n",
    "        self.weights_hidden_output = np.random.randn(hidden_size, output_size) * 0.01\n",
    "        self.bias_output = np.zeros((1, output_size))\n",
    "\n",
    "    def sigmoid(self, z):\n",
    "        return 1 / (1 + np.exp(-z))\n",
    "\n",
    "    def sigmoid_derivative(self, z):\n",
    "        return z * (1 - z)\n",
    "\n",
    "    def softmax(self, z):\n",
    "        exp_values = np.exp(z - np.max(z, axis=1, keepdims=True))\n",
    "        return exp_values / np.sum(exp_values, axis=1, keepdims=True)\n",
    "\n",
    "    def forward(self, X):\n",
    "        self.hidden_layer_input = np.dot(X, self.weights_input_hidden) + self.bias_hidden\n",
    "        self.hidden_layer_output = self.sigmoid(self.hidden_layer_input)\n",
    "        self.output_layer_input = np.dot(self.hidden_layer_output, self.weights_hidden_output) + self.bias_output\n",
    "        self.output = self.softmax(self.output_layer_input)\n",
    "        return self.output\n",
    "\n",
    "    def backward(self, X, Y, learning_rate):\n",
    "        output_error = self.output - Y\n",
    "        output_gradient = output_error / X.shape[0]\n",
    "        hidden_error = np.dot(output_gradient, self.weights_hidden_output.T) * self.sigmoid_derivative(self.hidden_layer_output)\n",
    "        self.weights_hidden_output -= learning_rate * np.dot(self.hidden_layer_output.T, output_gradient)\n",
    "        self.bias_output -= learning_rate * np.sum(output_gradient, axis=0, keepdims=True)\n",
    "        self.weights_input_hidden -= learning_rate * np.dot(X.T, hidden_error)\n",
    "        self.bias_hidden -= learning_rate * np.sum(hidden_error, axis=0, keepdims=True)\n",
    "\n",
    "    def train(self, X, Y, epochs, learning_rate):\n",
    "        for epoch in range(epochs):\n",
    "            self.forward(X)\n",
    "            self.backward(X, Y, learning_rate)\n",
    "            if epoch % 100 == 0:\n",
    "                loss = -np.sum(Y * np.log(self.output)) / X.shape[0]\n",
    "                print(f\"Epoch {epoch}, Loss: {loss:.4f}\")\n",
    "\n",
    "    def predict(self, X):\n",
    "        probabilities = self.forward(X)\n",
    "        return np.argmax(probabilities, axis=1) + 1  # Adjust to match target classes\n",
    "\n",
    "# Initialize and train the neural network\n",
    "nn = NeuralNetwork(input_size=X_train.shape[1], hidden_size=8, output_size=len(np.unique(Y)))\n",
    "nn.train(X_train, Y_train_one_hot, epochs=1000, learning_rate=0.01)\n",
    "\n",
    "# Predict and calculate accuracy\n",
    "Y_pred = nn.predict(X_test)\n",
    "accuracy = np.mean(Y_pred == Y_test)\n",
    "print(f\"Test Accuracy: {accuracy * 100:.2f}%\")\n"
   ]
  },
  {
   "cell_type": "code",
   "execution_count": null,
   "id": "537022e1-cc9d-4ba0-906b-ac0222209648",
   "metadata": {},
   "outputs": [],
   "source": []
  }
 ],
 "metadata": {
  "kernelspec": {
   "display_name": "Python 3 (ipykernel)",
   "language": "python",
   "name": "python3"
  },
  "language_info": {
   "codemirror_mode": {
    "name": "ipython",
    "version": 3
   },
   "file_extension": ".py",
   "mimetype": "text/x-python",
   "name": "python",
   "nbconvert_exporter": "python",
   "pygments_lexer": "ipython3",
   "version": "3.12.4"
  }
 },
 "nbformat": 4,
 "nbformat_minor": 5
}
